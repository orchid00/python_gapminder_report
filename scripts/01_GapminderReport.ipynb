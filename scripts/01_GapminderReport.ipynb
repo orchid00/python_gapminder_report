{
 "cells": [
  {
   "cell_type": "markdown",
   "metadata": {},
   "source": [
    "# Creating a report from the Gapminder Dataset"
   ]
  },
  {
   "cell_type": "markdown",
   "metadata": {},
   "source": [
    "The gapminder dataset is freely available data from statistics around the world, find out more here https://www.gapminder.org/"
   ]
  },
  {
   "cell_type": "markdown",
   "metadata": {},
   "source": [
    "## Question\n",
    "\n",
    "My idea is to discover which countries have population growth increment about\n",
    "four times more than the original data (400%+),\n",
    "comparing the first data observed in 1952 and the last data observed in 2007."
   ]
  },
  {
   "cell_type": "code",
   "execution_count": 1,
   "metadata": {
    "collapsed": true
   },
   "outputs": [],
   "source": [
    "# first import the library pandas\n",
    "import pandas"
   ]
  },
  {
   "cell_type": "code",
   "execution_count": 2,
   "metadata": {
    "collapsed": true
   },
   "outputs": [],
   "source": [
    "all_countries = pandas.read_csv('../data/gapminder_all.csv', index_col='country')"
   ]
  },
  {
   "cell_type": "markdown",
   "metadata": {},
   "source": [
    "# Let's explore the dataset "
   ]
  },
  {
   "cell_type": "code",
   "execution_count": 3,
   "metadata": {},
   "outputs": [
    {
     "name": "stdout",
     "output_type": "stream",
     "text": [
      "Columns: ['continent', 'gdpPercap_1952', 'gdpPercap_1957', 'gdpPercap_1962', 'gdpPercap_1967', 'gdpPercap_1972', 'gdpPercap_1977', 'gdpPercap_1982', 'gdpPercap_1987', 'gdpPercap_1992', 'gdpPercap_1997', 'gdpPercap_2002', 'gdpPercap_2007', 'lifeExp_1952', 'lifeExp_1957', 'lifeExp_1962', 'lifeExp_1967', 'lifeExp_1972', 'lifeExp_1977', 'lifeExp_1982', 'lifeExp_1987', 'lifeExp_1992', 'lifeExp_1997', 'lifeExp_2002', 'lifeExp_2007', 'pop_1952', 'pop_1957', 'pop_1962', 'pop_1967', 'pop_1972', 'pop_1977', 'pop_1982', 'pop_1987', 'pop_1992', 'pop_1997', 'pop_2002', 'pop_2007'] \n",
      "\n",
      "Rows   : ['Algeria', 'Angola', 'Benin', 'Botswana', 'Burkina Faso', 'Burundi', 'Cameroon', 'Central African Republic', 'Chad', 'Comoros', 'Congo Dem. Rep.', 'Congo Rep.', \"Cote d'Ivoire\", 'Djibouti', 'Egypt', 'Equatorial Guinea', 'Eritrea', 'Ethiopia', 'Gabon', 'Gambia', 'Ghana', 'Guinea', 'Guinea-Bissau', 'Kenya', 'Lesotho', 'Liberia', 'Libya', 'Madagascar', 'Malawi', 'Mali', 'Mauritania', 'Mauritius', 'Morocco', 'Mozambique', 'Namibia', 'Niger', 'Nigeria', 'Reunion', 'Rwanda', 'Sao Tome and Principe', 'Senegal', 'Sierra Leone', 'Somalia', 'South Africa', 'Sudan', 'Swaziland', 'Tanzania', 'Togo', 'Tunisia', 'Uganda', 'Zambia', 'Zimbabwe', 'Argentina', 'Bolivia', 'Brazil', 'Canada', 'Chile', 'Colombia', 'Costa Rica', 'Cuba', 'Dominican Republic', 'Ecuador', 'El Salvador', 'Guatemala', 'Haiti', 'Honduras', 'Jamaica', 'Mexico', 'Nicaragua', 'Panama', 'Paraguay', 'Peru', 'Puerto Rico', 'Trinidad and Tobago', 'United States', 'Uruguay', 'Venezuela', 'Afghanistan', 'Bahrain', 'Bangladesh', 'Cambodia', 'China', 'Hong Kong China', 'India', 'Indonesia', 'Iran', 'Iraq', 'Israel', 'Japan', 'Jordan', 'Korea Dem. Rep.', 'Korea Rep.', 'Kuwait', 'Lebanon', 'Malaysia', 'Mongolia', 'Myanmar', 'Nepal', 'Oman', 'Pakistan', 'Philippines', 'Saudi Arabia', 'Singapore', 'Sri Lanka', 'Syria', 'Taiwan', 'Thailand', 'Vietnam', 'West Bank and Gaza', 'Yemen Rep.', 'Albania', 'Austria', 'Belgium', 'Bosnia and Herzegovina', 'Bulgaria', 'Croatia', 'Czech Republic', 'Denmark', 'Finland', 'France', 'Germany', 'Greece', 'Hungary', 'Iceland', 'Ireland', 'Italy', 'Montenegro', 'Netherlands', 'Norway', 'Poland', 'Portugal', 'Romania', 'Serbia', 'Slovak Republic', 'Slovenia', 'Spain', 'Sweden', 'Switzerland', 'Turkey', 'United Kingdom', 'Australia', 'New Zealand']\n"
     ]
    }
   ],
   "source": [
    "print(\"Columns:\", all_countries.columns.format(), '\\n')\n",
    "print(\"Rows   :\" , all_countries.index.format())"
   ]
  },
  {
   "cell_type": "code",
   "execution_count": 4,
   "metadata": {},
   "outputs": [
    {
     "data": {
      "text/plain": [
       "Index(['pop_1952', 'pop_1957', 'pop_1962', 'pop_1967', 'pop_1972', 'pop_1977',\n",
       "       'pop_1982', 'pop_1987', 'pop_1992', 'pop_1997', 'pop_2002', 'pop_2007'],\n",
       "      dtype='object')"
      ]
     },
     "execution_count": 4,
     "metadata": {},
     "output_type": "execute_result"
    }
   ],
   "source": [
    "# select columns that contain pop\n",
    "pop_bool = all_countries.columns.str.contains('pop')\n",
    "pop_variables = all_countries.columns[pop_bool]\n",
    "pop_variables"
   ]
  },
  {
   "cell_type": "code",
   "execution_count": 5,
   "metadata": {},
   "outputs": [],
   "source": [
    "countries_pop = all_countries[pop_variables]"
   ]
  },
  {
   "cell_type": "code",
   "execution_count": 6,
   "metadata": {},
   "outputs": [
    {
     "name": "stdout",
     "output_type": "stream",
     "text": [
      "<class 'pandas.core.frame.DataFrame'>\n",
      "Index: 142 entries, Algeria to New Zealand\n",
      "Data columns (total 12 columns):\n",
      "pop_1952    142 non-null float64\n",
      "pop_1957    142 non-null float64\n",
      "pop_1962    142 non-null float64\n",
      "pop_1967    142 non-null float64\n",
      "pop_1972    142 non-null float64\n",
      "pop_1977    142 non-null float64\n",
      "pop_1982    142 non-null float64\n",
      "pop_1987    142 non-null float64\n",
      "pop_1992    142 non-null float64\n",
      "pop_1997    142 non-null float64\n",
      "pop_2002    142 non-null int64\n",
      "pop_2007    142 non-null int64\n",
      "dtypes: float64(10), int64(2)\n",
      "memory usage: 14.4+ KB\n"
     ]
    }
   ],
   "source": [
    "countries_pop.info()"
   ]
  },
  {
   "cell_type": "code",
   "execution_count": 7,
   "metadata": {},
   "outputs": [
    {
     "data": {
      "text/plain": [
       "Index(['1952', '1957', '1962', '1967', '1972', '1977', '1982', '1987', '1992',\n",
       "       '1997', '2002', '2007'],\n",
       "      dtype='object')"
      ]
     },
     "execution_count": 7,
     "metadata": {},
     "output_type": "execute_result"
    }
   ],
   "source": [
    "years = countries_pop.columns.str.strip('pop_')\n",
    "years"
   ]
  },
  {
   "cell_type": "markdown",
   "metadata": {},
   "source": [
    "## Analysis\n",
    "\n",
    "The analysis is based on subset of the data, hence reducing it is a good idea to\n",
    "start with (select and filter). Then, a calculation between the \n",
    "two selected years is needed, for which making the data in wide format is useful. \n",
    "After that, producing the calculated increment percentange (could have been done\n",
    "in one column). Lastly, arranging the output to have the countries with major increment \n",
    "at the top. Filtering towards the end can be conveniently modified. The last two \n",
    "lines; mutate country as factor (serves to keep the arrangement for the subsequent \n",
    "plot), and removing increment_pop (only to make the table include the necessary \n",
    "display columns).\n",
    "\n",
    "Note, continent was kept as it will be plotted as category, and aids in the \n",
    "conclusion. Lastly, for the plot, one can ignore the columns year 1952 and 2007. \n",
    "However it is beneficial to have it displayed in the column for visual comparison\n",
    "of population grow."
   ]
  },
  {
   "cell_type": "code",
   "execution_count": 8,
   "metadata": {},
   "outputs": [
    {
     "data": {
      "text/plain": [
       "country\n",
       "Algeria                     259.21\n",
       "Angola                      193.48\n",
       "Benin                       364.72\n",
       "Botswana                    270.59\n",
       "Burkina Faso                220.50\n",
       "Burundi                     243.08\n",
       "Cameroon                    253.29\n",
       "Central African Republic    238.24\n",
       "Chad                        281.69\n",
       "Comoros                     361.85\n",
       "dtype: float64"
      ]
     },
     "execution_count": 8,
     "metadata": {},
     "output_type": "execute_result"
    }
   ],
   "source": [
    "pop_increment = countries_pop.pop_2007 - countries_pop.pop_1952\n",
    "increment_pop_percentage = ((pop_increment / countries_pop.pop_1952) * 100)\n",
    "increment_pop_percentage.round(decimals=2).head(10)"
   ]
  },
  {
   "cell_type": "markdown",
   "metadata": {},
   "source": [
    "## Results\n",
    "\n",
    "The countries which have a population growth increment of about\n",
    "four times (400%+) more than the original data, comparing 1952 and 2007."
   ]
  },
  {
   "cell_type": "code",
   "execution_count": 9,
   "metadata": {},
   "outputs": [
    {
     "data": {
      "text/html": [
       "<div>\n",
       "<style>\n",
       "    .dataframe thead tr:only-child th {\n",
       "        text-align: right;\n",
       "    }\n",
       "\n",
       "    .dataframe thead th {\n",
       "        text-align: left;\n",
       "    }\n",
       "\n",
       "    .dataframe tbody tr th {\n",
       "        vertical-align: top;\n",
       "    }\n",
       "</style>\n",
       "<table border=\"1\" class=\"dataframe\">\n",
       "  <thead>\n",
       "    <tr style=\"text-align: right;\">\n",
       "      <th></th>\n",
       "      <th>pop_1952</th>\n",
       "      <th>pop_1957</th>\n",
       "      <th>pop_1962</th>\n",
       "      <th>pop_1967</th>\n",
       "      <th>pop_1972</th>\n",
       "      <th>pop_1977</th>\n",
       "      <th>pop_1982</th>\n",
       "      <th>pop_1987</th>\n",
       "      <th>pop_1992</th>\n",
       "      <th>pop_1997</th>\n",
       "      <th>pop_2002</th>\n",
       "      <th>pop_2007</th>\n",
       "    </tr>\n",
       "    <tr>\n",
       "      <th>country</th>\n",
       "      <th></th>\n",
       "      <th></th>\n",
       "      <th></th>\n",
       "      <th></th>\n",
       "      <th></th>\n",
       "      <th></th>\n",
       "      <th></th>\n",
       "      <th></th>\n",
       "      <th></th>\n",
       "      <th></th>\n",
       "      <th></th>\n",
       "      <th></th>\n",
       "    </tr>\n",
       "  </thead>\n",
       "  <tbody>\n",
       "    <tr>\n",
       "      <th>Cote d'Ivoire</th>\n",
       "      <td>2977019.0</td>\n",
       "      <td>3300000.0</td>\n",
       "      <td>3832408.0</td>\n",
       "      <td>4744870.0</td>\n",
       "      <td>6071696.0</td>\n",
       "      <td>7459574.0</td>\n",
       "      <td>9025951.0</td>\n",
       "      <td>10761098.0</td>\n",
       "      <td>12772596.0</td>\n",
       "      <td>14625967.0</td>\n",
       "      <td>16252726</td>\n",
       "      <td>18013409</td>\n",
       "    </tr>\n",
       "    <tr>\n",
       "      <th>Djibouti</th>\n",
       "      <td>63149.0</td>\n",
       "      <td>71851.0</td>\n",
       "      <td>89898.0</td>\n",
       "      <td>127617.0</td>\n",
       "      <td>178848.0</td>\n",
       "      <td>228694.0</td>\n",
       "      <td>305991.0</td>\n",
       "      <td>311025.0</td>\n",
       "      <td>384156.0</td>\n",
       "      <td>417908.0</td>\n",
       "      <td>447416</td>\n",
       "      <td>496374</td>\n",
       "    </tr>\n",
       "    <tr>\n",
       "      <th>Gambia</th>\n",
       "      <td>284320.0</td>\n",
       "      <td>323150.0</td>\n",
       "      <td>374020.0</td>\n",
       "      <td>439593.0</td>\n",
       "      <td>517101.0</td>\n",
       "      <td>608274.0</td>\n",
       "      <td>715523.0</td>\n",
       "      <td>848406.0</td>\n",
       "      <td>1025384.0</td>\n",
       "      <td>1235767.0</td>\n",
       "      <td>1457766</td>\n",
       "      <td>1688359</td>\n",
       "    </tr>\n",
       "    <tr>\n",
       "      <th>Kenya</th>\n",
       "      <td>6464046.0</td>\n",
       "      <td>7454779.0</td>\n",
       "      <td>8678557.0</td>\n",
       "      <td>10191512.0</td>\n",
       "      <td>12044785.0</td>\n",
       "      <td>14500404.0</td>\n",
       "      <td>17661452.0</td>\n",
       "      <td>21198082.0</td>\n",
       "      <td>25020539.0</td>\n",
       "      <td>28263827.0</td>\n",
       "      <td>31386842</td>\n",
       "      <td>35610177</td>\n",
       "    </tr>\n",
       "    <tr>\n",
       "      <th>Libya</th>\n",
       "      <td>1019729.0</td>\n",
       "      <td>1201578.0</td>\n",
       "      <td>1441863.0</td>\n",
       "      <td>1759224.0</td>\n",
       "      <td>2183877.0</td>\n",
       "      <td>2721783.0</td>\n",
       "      <td>3344074.0</td>\n",
       "      <td>3799845.0</td>\n",
       "      <td>4364501.0</td>\n",
       "      <td>4759670.0</td>\n",
       "      <td>5368585</td>\n",
       "      <td>6036914</td>\n",
       "    </tr>\n",
       "    <tr>\n",
       "      <th>Uganda</th>\n",
       "      <td>5824797.0</td>\n",
       "      <td>6675501.0</td>\n",
       "      <td>7688797.0</td>\n",
       "      <td>8900294.0</td>\n",
       "      <td>10190285.0</td>\n",
       "      <td>11457758.0</td>\n",
       "      <td>12939400.0</td>\n",
       "      <td>15283050.0</td>\n",
       "      <td>18252190.0</td>\n",
       "      <td>21210254.0</td>\n",
       "      <td>24739869</td>\n",
       "      <td>29170398</td>\n",
       "    </tr>\n",
       "    <tr>\n",
       "      <th>Bahrain</th>\n",
       "      <td>120447.0</td>\n",
       "      <td>138655.0</td>\n",
       "      <td>171863.0</td>\n",
       "      <td>202182.0</td>\n",
       "      <td>230800.0</td>\n",
       "      <td>297410.0</td>\n",
       "      <td>377967.0</td>\n",
       "      <td>454612.0</td>\n",
       "      <td>529491.0</td>\n",
       "      <td>598561.0</td>\n",
       "      <td>656397</td>\n",
       "      <td>708573</td>\n",
       "    </tr>\n",
       "    <tr>\n",
       "      <th>Iraq</th>\n",
       "      <td>5441766.0</td>\n",
       "      <td>6248643.0</td>\n",
       "      <td>7240260.0</td>\n",
       "      <td>8519282.0</td>\n",
       "      <td>10061506.0</td>\n",
       "      <td>11882916.0</td>\n",
       "      <td>14173318.0</td>\n",
       "      <td>16543189.0</td>\n",
       "      <td>17861905.0</td>\n",
       "      <td>20775703.0</td>\n",
       "      <td>24001816</td>\n",
       "      <td>27499638</td>\n",
       "    </tr>\n",
       "    <tr>\n",
       "      <th>Jordan</th>\n",
       "      <td>607914.0</td>\n",
       "      <td>746559.0</td>\n",
       "      <td>933559.0</td>\n",
       "      <td>1255058.0</td>\n",
       "      <td>1613551.0</td>\n",
       "      <td>1937652.0</td>\n",
       "      <td>2347031.0</td>\n",
       "      <td>2820042.0</td>\n",
       "      <td>3867409.0</td>\n",
       "      <td>4526235.0</td>\n",
       "      <td>5307470</td>\n",
       "      <td>6053193</td>\n",
       "    </tr>\n",
       "    <tr>\n",
       "      <th>Kuwait</th>\n",
       "      <td>160000.0</td>\n",
       "      <td>212846.0</td>\n",
       "      <td>358266.0</td>\n",
       "      <td>575003.0</td>\n",
       "      <td>841934.0</td>\n",
       "      <td>1140357.0</td>\n",
       "      <td>1497494.0</td>\n",
       "      <td>1891487.0</td>\n",
       "      <td>1418095.0</td>\n",
       "      <td>1765345.0</td>\n",
       "      <td>2111561</td>\n",
       "      <td>2505559</td>\n",
       "    </tr>\n",
       "    <tr>\n",
       "      <th>Oman</th>\n",
       "      <td>507833.0</td>\n",
       "      <td>561977.0</td>\n",
       "      <td>628164.0</td>\n",
       "      <td>714775.0</td>\n",
       "      <td>829050.0</td>\n",
       "      <td>1004533.0</td>\n",
       "      <td>1301048.0</td>\n",
       "      <td>1593882.0</td>\n",
       "      <td>1915208.0</td>\n",
       "      <td>2283635.0</td>\n",
       "      <td>2713462</td>\n",
       "      <td>3204897</td>\n",
       "    </tr>\n",
       "    <tr>\n",
       "      <th>Saudi Arabia</th>\n",
       "      <td>4005677.0</td>\n",
       "      <td>4419650.0</td>\n",
       "      <td>4943029.0</td>\n",
       "      <td>5618198.0</td>\n",
       "      <td>6472756.0</td>\n",
       "      <td>8128505.0</td>\n",
       "      <td>11254672.0</td>\n",
       "      <td>14619745.0</td>\n",
       "      <td>16945857.0</td>\n",
       "      <td>21229759.0</td>\n",
       "      <td>24501530</td>\n",
       "      <td>27601038</td>\n",
       "    </tr>\n",
       "    <tr>\n",
       "      <th>Syria</th>\n",
       "      <td>3661549.0</td>\n",
       "      <td>4149908.0</td>\n",
       "      <td>4834621.0</td>\n",
       "      <td>5680812.0</td>\n",
       "      <td>6701172.0</td>\n",
       "      <td>7932503.0</td>\n",
       "      <td>9410494.0</td>\n",
       "      <td>11242847.0</td>\n",
       "      <td>13219062.0</td>\n",
       "      <td>15081016.0</td>\n",
       "      <td>17155814</td>\n",
       "      <td>19314747</td>\n",
       "    </tr>\n",
       "  </tbody>\n",
       "</table>\n",
       "</div>"
      ],
      "text/plain": [
       "                pop_1952   pop_1957   pop_1962    pop_1967    pop_1972  \\\n",
       "country                                                                  \n",
       "Cote d'Ivoire  2977019.0  3300000.0  3832408.0   4744870.0   6071696.0   \n",
       "Djibouti         63149.0    71851.0    89898.0    127617.0    178848.0   \n",
       "Gambia          284320.0   323150.0   374020.0    439593.0    517101.0   \n",
       "Kenya          6464046.0  7454779.0  8678557.0  10191512.0  12044785.0   \n",
       "Libya          1019729.0  1201578.0  1441863.0   1759224.0   2183877.0   \n",
       "Uganda         5824797.0  6675501.0  7688797.0   8900294.0  10190285.0   \n",
       "Bahrain         120447.0   138655.0   171863.0    202182.0    230800.0   \n",
       "Iraq           5441766.0  6248643.0  7240260.0   8519282.0  10061506.0   \n",
       "Jordan          607914.0   746559.0   933559.0   1255058.0   1613551.0   \n",
       "Kuwait          160000.0   212846.0   358266.0    575003.0    841934.0   \n",
       "Oman            507833.0   561977.0   628164.0    714775.0    829050.0   \n",
       "Saudi Arabia   4005677.0  4419650.0  4943029.0   5618198.0   6472756.0   \n",
       "Syria          3661549.0  4149908.0  4834621.0   5680812.0   6701172.0   \n",
       "\n",
       "                 pop_1977    pop_1982    pop_1987    pop_1992    pop_1997  \\\n",
       "country                                                                     \n",
       "Cote d'Ivoire   7459574.0   9025951.0  10761098.0  12772596.0  14625967.0   \n",
       "Djibouti         228694.0    305991.0    311025.0    384156.0    417908.0   \n",
       "Gambia           608274.0    715523.0    848406.0   1025384.0   1235767.0   \n",
       "Kenya          14500404.0  17661452.0  21198082.0  25020539.0  28263827.0   \n",
       "Libya           2721783.0   3344074.0   3799845.0   4364501.0   4759670.0   \n",
       "Uganda         11457758.0  12939400.0  15283050.0  18252190.0  21210254.0   \n",
       "Bahrain          297410.0    377967.0    454612.0    529491.0    598561.0   \n",
       "Iraq           11882916.0  14173318.0  16543189.0  17861905.0  20775703.0   \n",
       "Jordan          1937652.0   2347031.0   2820042.0   3867409.0   4526235.0   \n",
       "Kuwait          1140357.0   1497494.0   1891487.0   1418095.0   1765345.0   \n",
       "Oman            1004533.0   1301048.0   1593882.0   1915208.0   2283635.0   \n",
       "Saudi Arabia    8128505.0  11254672.0  14619745.0  16945857.0  21229759.0   \n",
       "Syria           7932503.0   9410494.0  11242847.0  13219062.0  15081016.0   \n",
       "\n",
       "               pop_2002  pop_2007  \n",
       "country                            \n",
       "Cote d'Ivoire  16252726  18013409  \n",
       "Djibouti         447416    496374  \n",
       "Gambia          1457766   1688359  \n",
       "Kenya          31386842  35610177  \n",
       "Libya           5368585   6036914  \n",
       "Uganda         24739869  29170398  \n",
       "Bahrain          656397    708573  \n",
       "Iraq           24001816  27499638  \n",
       "Jordan          5307470   6053193  \n",
       "Kuwait          2111561   2505559  \n",
       "Oman            2713462   3204897  \n",
       "Saudi Arabia   24501530  27601038  \n",
       "Syria          17155814  19314747  "
      ]
     },
     "execution_count": 9,
     "metadata": {},
     "output_type": "execute_result"
    }
   ],
   "source": [
    "countries_major_increment = countries_pop[increment_pop_percentage > 400]\n",
    "countries_major_increment"
   ]
  },
  {
   "cell_type": "markdown",
   "metadata": {},
   "source": [
    "Answering the question with a bar plot\n"
   ]
  },
  {
   "cell_type": "code",
   "execution_count": 10,
   "metadata": {},
   "outputs": [
    {
     "data": {
      "text/plain": [
       "<matplotlib.axes._subplots.AxesSubplot at 0x7f9e721e4b38>"
      ]
     },
     "execution_count": 10,
     "metadata": {},
     "output_type": "execute_result"
    },
    {
     "data": {
      "image/png": "[encoded data removed]",
      "text/plain": [
       "<matplotlib.figure.Figure at 0x7f9e73f61e10>"
      ]
     },
     "metadata": {},
     "output_type": "display_data"
    }
   ],
   "source": [
    " %matplotlib inline\n",
    "    \n",
    "countries_major_increment.plot(kind='box')\n"
   ]
  },
  {
   "cell_type": "code",
   "execution_count": 11,
   "metadata": {},
   "outputs": [
    {
     "data": {
      "text/plain": [
       "(array([ 1,  2,  3,  4,  5,  6,  7,  8,  9, 10, 11, 12]),\n",
       " <a list of 12 Text xticklabel objects>)"
      ]
     },
     "execution_count": 11,
     "metadata": {},
     "output_type": "execute_result"
    },
    {
     "data": {
      "image/png": "[encoded data removed]",
      "text/plain": [
       "<matplotlib.figure.Figure at 0x7f9e720a8c18>"
      ]
     },
     "metadata": {},
     "output_type": "display_data"
    }
   ],
   "source": [
    "import matplotlib.pyplot as plt\n",
    "countries_major_increment.plot(kind='box')\n",
    "plt.xticks(rotation = 'vertical')"
   ]
  },
  {
   "cell_type": "markdown",
   "metadata": {},
   "source": [
    "To make this plot nicer "
   ]
  },
  {
   "cell_type": "code",
   "execution_count": 12,
   "metadata": {},
   "outputs": [
    {
     "data": {
      "text/plain": [
       "<matplotlib.legend.Legend at 0x7f9e6c714400>"
      ]
     },
     "execution_count": 12,
     "metadata": {},
     "output_type": "execute_result"
    },
    {
     "data": {
      "image/png": "[encoded data removed]",
      "text/plain": [
       "<matplotlib.figure.Figure at 0x7f9e720a3160>"
      ]
     },
     "metadata": {},
     "output_type": "display_data"
    }
   ],
   "source": [
    "import matplotlib.pyplot as plt\n",
    "\n",
    "p = countries_major_increment.plot(kind='bar')\n",
    "p.legend(years, loc = 'best', bbox_to_anchor=(1,1))\n"
   ]
  },
  {
   "cell_type": "code",
   "execution_count": 13,
   "metadata": {},
   "outputs": [
    {
     "data": {
      "text/plain": [
       "country\n",
       "Cote d'Ivoire     505.082097\n",
       "Djibouti          686.036200\n",
       "Gambia            493.823509\n",
       "Kenya             450.896095\n",
       "Libya             492.011603\n",
       "Uganda            400.796817\n",
       "Bahrain           488.286134\n",
       "Iraq              405.344000\n",
       "Jordan            895.731798\n",
       "Kuwait           1465.974375\n",
       "Oman              531.092702\n",
       "Saudi Arabia      589.048019\n",
       "Syria             427.502076\n",
       "dtype: float64"
      ]
     },
     "execution_count": 13,
     "metadata": {},
     "output_type": "execute_result"
    }
   ],
   "source": [
    "major_increment = increment_pop_percentage[increment_pop_percentage > 400] \n",
    "major_increment\n"
   ]
  },
  {
   "cell_type": "code",
   "execution_count": 14,
   "metadata": {},
   "outputs": [
    {
     "data": {
      "text/plain": [
       "country\n",
       "Uganda            400.796817\n",
       "Iraq              405.344000\n",
       "Syria             427.502076\n",
       "Kenya             450.896095\n",
       "Bahrain           488.286134\n",
       "Libya             492.011603\n",
       "Gambia            493.823509\n",
       "Cote d'Ivoire     505.082097\n",
       "Oman              531.092702\n",
       "Saudi Arabia      589.048019\n",
       "Djibouti          686.036200\n",
       "Jordan            895.731798\n",
       "Kuwait           1465.974375\n",
       "dtype: float64"
      ]
     },
     "execution_count": 14,
     "metadata": {},
     "output_type": "execute_result"
    }
   ],
   "source": [
    "major_increment.sort_values()"
   ]
  },
  {
   "cell_type": "code",
   "execution_count": 15,
   "metadata": {},
   "outputs": [
    {
     "data": {
      "text/plain": [
       "Text(0,0.5,'Percentage growth (%)')"
      ]
     },
     "execution_count": 15,
     "metadata": {},
     "output_type": "execute_result"
    },
    {
     "data": {
      "image/png": "[encoded data removed]",
      "text/plain": [
       "<matplotlib.figure.Figure at 0x7f9e6c51e7f0>"
      ]
     },
     "metadata": {},
     "output_type": "display_data"
    }
   ],
   "source": [
    "plt.style.use('bmh')\n",
    "p = major_increment.sort_values().plot('bar')\n",
    "plt.xticks(rotation = 'vertical')\n",
    "plt.ylabel('Percentage growth (%)')"
   ]
  },
  {
   "cell_type": "code",
   "execution_count": 18,
   "metadata": {},
   "outputs": [],
   "source": [
    "# plt.style.available"
   ]
  },
  {
   "cell_type": "markdown",
   "metadata": {},
   "source": [
    "## Conclusion\n",
    "\n",
    "From the data analysed 13 countries had \n",
    "incremented their population by 4 times,\n",
    "comparing the observationa from 1952 and 2007.\n",
    "These countries represent Asian and African \n",
    "countries.\n",
    "\n",
    "The second plot clearly displays Kuwait as the country\n",
    "with major population increment, also detailed in Table 1, from having\n",
    "`160000` people in 1952 then reaching `2505559` in 5.5 decades (2007) is \n",
    "almost a 15 times population increment since 1952. \n",
    "\n",
    "It is important to notice some facts putting in context our analysis. First of \n",
    "all, the information shown here is solely dependent on the data and its accuracy.\n",
    "After double checking external data, Kuwait seems to be receiving many expats \n",
    "which contributes to its population growth, so not only more births but external\n",
    "inflow of people. \n",
    "Another comparison to explore with the aid of external data is to see how the growth \n",
    "continued after 2007 \n",
    "[[1](https://en.wikipedia.org/wiki/List_of_countries_by_population_growth_rate)].\n",
    "In respect to the external table, we can notice other facts, not only that \n",
    "population growth varied over the last ten years, in relation to the present \n",
    "analysis. Also, that some countries were not included in the original dataset, \n",
    "such as Qatar, South Sudan and United Arab Emirates. Hence our analysis is \n",
    "limited to our original observations."
   ]
  },
  {
   "cell_type": "code",
   "execution_count": null,
   "metadata": {
    "collapsed": true
   },
   "outputs": [],
   "source": []
  }
 ],
 "metadata": {
  "kernelspec": {
   "display_name": "Python 3",
   "language": "python",
   "name": "python3"
  },
  "language_info": {
   "codemirror_mode": {
    "name": "ipython",
    "version": 3
   },
   "file_extension": ".py",
   "mimetype": "text/x-python",
   "name": "python",
   "nbconvert_exporter": "python",
   "pygments_lexer": "ipython3",
   "version": "3.6.3"
  }
 },
 "nbformat": 4,
 "nbformat_minor": 2
}
